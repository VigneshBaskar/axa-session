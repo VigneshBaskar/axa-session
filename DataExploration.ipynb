{
 "cells": [
  {
   "cell_type": "code",
   "execution_count": null,
   "metadata": {},
   "outputs": [],
   "source": [
    "import os\n",
    "import pandas as pd\n",
    "import numpy as np\n",
    "import pickle\n",
    "from sklearn.model_selection import train_test_split"
   ]
  },
  {
   "cell_type": "code",
   "execution_count": null,
   "metadata": {},
   "outputs": [],
   "source": [
    "from Scripts.UnknownWordsProcessing import UnknownWordsProcessing \n",
    "from Scripts.VocabDict import VocabDict\n",
    "from Scripts.MapWordToID import MapWordToID\n",
    "from Scripts.Tokenizer import word_tokenizer\n",
    "from Scripts.SentenceProcessing import SentenceProcessing\n",
    "from Scripts.Word2VecUtilities import Word2VecUtilities"
   ]
  },
  {
   "cell_type": "code",
   "execution_count": null,
   "metadata": {},
   "outputs": [],
   "source": [
    "with open(os.path.join('Data','data.p'), 'rb') as handle:\n",
    "    data = pickle.load(handle)"
   ]
  },
  {
   "cell_type": "code",
   "execution_count": null,
   "metadata": {
    "collapsed": true
   },
   "outputs": [],
   "source": [
    "X_text = data['X_text']\n",
    "y = data['y']"
   ]
  },
  {
   "cell_type": "code",
   "execution_count": null,
   "metadata": {
    "collapsed": true
   },
   "outputs": [],
   "source": [
    "all_documents_tokenized_words = [list(set(word_tokenizer(text))) for text in X_text]\n",
    "vocab_dict, rev_vocab_dict = VocabDict.create_vocab_dict(all_documents_tokenized_words, min_doc_count=1000)"
   ]
  },
  {
   "cell_type": "code",
   "execution_count": null,
   "metadata": {
    "collapsed": true
   },
   "outputs": [],
   "source": [
    "unknown_words_processing = UnknownWordsProcessing(vocab_dict.keys(), replace=False)\n",
    "tokenized_documents = [word_tokenizer(text) for text in X_text]\n",
    "unknown_words_removed_documents = unknown_words_processing.remove_or_replace_unkown_word_from_sentences(tokenized_documents)\n",
    "preprocessed_documents = SentenceProcessing().pad_truncate_sent(unknown_words_removed_documents, chosen_sent_len = 300)"
   ]
  },
  {
   "cell_type": "code",
   "execution_count": null,
   "metadata": {},
   "outputs": [],
   "source": [
    "w2v_model = Word2VecUtilities.create_word2vector_model(unknown_words_removed_documents, wv_size=50)\n",
    "embedding_matrix = Word2VecUtilities.create_embeddings_matrix(w2v_model, rev_vocab_dict)"
   ]
  },
  {
   "cell_type": "code",
   "execution_count": null,
   "metadata": {
    "collapsed": true
   },
   "outputs": [],
   "source": [
    "vocab_dict['my_dummy']=len(vocab_dict)\n",
    "rev_vocab_dict[len(rev_vocab_dict)] = 'my_dummy'\n",
    "embedding_matrix = np.vstack((embedding_matrix, np.zeros((1, embedding_matrix.shape[1]))))"
   ]
  },
  {
   "cell_type": "code",
   "execution_count": null,
   "metadata": {
    "collapsed": true
   },
   "outputs": [],
   "source": [
    "map_word_to_id = MapWordToID(vocab_dict)\n",
    "id_lists = map_word_to_id.word_lists_to_id_lists(preprocessed_documents)\n",
    "id_arrays = np.array(id_lists)"
   ]
  },
  {
   "cell_type": "code",
   "execution_count": null,
   "metadata": {
    "collapsed": true
   },
   "outputs": [],
   "source": [
    "X_train_and_valid, X_test, y_train_and_valid, y_test = train_test_split(id_arrays, y, test_size=0.15, random_state=42)\n",
    "X_train, X_valid, y_train, y_valid = train_test_split(X_train_and_valid, y_train_and_valid, test_size=0.15, random_state=42)"
   ]
  },
  {
   "cell_type": "code",
   "execution_count": null,
   "metadata": {
    "collapsed": true
   },
   "outputs": [],
   "source": [
    "data_X_y = {'X_train':X_train, 'X_valid':X_valid, 'X_test':X_test,\n",
    "           'y_train':y_train, 'y_valid':y_valid,'y_test':y_test}\n",
    "\n",
    "with open(os.path.join('Data','data_X_y.p'), 'wb') as handle:\n",
    "    pickle.dump(data_X_y, handle, protocol=pickle.HIGHEST_PROTOCOL)"
   ]
  },
  {
   "cell_type": "code",
   "execution_count": null,
   "metadata": {
    "collapsed": true
   },
   "outputs": [],
   "source": [
    "training_params = {'embedding_matrix':embedding_matrix, 'vocab_size':len(vocab_dict), \n",
    "                   'vocab_dict':vocab_dict, 'rev_vocab_dict':rev_vocab_dict}\n",
    "with open(os.path.join('Data','training_params.p'), 'wb') as handle:\n",
    "    pickle.dump(training_params, handle, protocol=pickle.HIGHEST_PROTOCOL)"
   ]
  },
  {
   "cell_type": "code",
   "execution_count": null,
   "metadata": {
    "collapsed": true
   },
   "outputs": [],
   "source": [
    "w2v_model.save(os.path.join('Data','w2v_model.h5'))"
   ]
  }
 ],
 "metadata": {
  "kernelspec": {
   "display_name": "axa",
   "language": "python",
   "name": "axa"
  },
  "language_info": {
   "codemirror_mode": {
    "name": "ipython",
    "version": 3
   },
   "file_extension": ".py",
   "mimetype": "text/x-python",
   "name": "python",
   "nbconvert_exporter": "python",
   "pygments_lexer": "ipython3",
   "version": "3.5.2"
  }
 },
 "nbformat": 4,
 "nbformat_minor": 2
}
